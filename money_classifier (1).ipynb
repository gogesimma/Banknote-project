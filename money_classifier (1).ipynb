{
  "cells": [
    {
      "cell_type": "code",
      "execution_count": 17,
      "metadata": {
        "id": "qxPPCs9DyTYk"
      },
      "outputs": [],
      "source": [
        "import numpy as np\n",
        "import matplotlib.pyplot as plt\n",
        "import glob\n",
        "import cv2\n",
        "from keras.models import Model, Sequential\n",
        "from keras.layers import Dense, Flatten, Conv2D, MaxPooling2D\n",
        "import os\n",
        "import seaborn as sns\n",
        "from keras.applications.vgg16 import VGG16"
      ]
    },
    {
      "cell_type": "code",
      "execution_count": 18,
      "metadata": {
        "id": "hBUaaepCNTRn"
      },
      "outputs": [],
      "source": [
        "from keras.preprocessing.image import ImageDataGenerator, img_to_array, load_img\n",
        "import os\n",
        "datagen = ImageDataGenerator(\n",
        "    rotation_range=40,\n",
        "    width_shift_range=0.2,\n",
        "    height_shift_range=0.2,\n",
        "    shear_range=0.2,\n",
        "    zoom_range=0.2,\n",
        "    horizontal_flip=True,\n",
        "    fill_mode='nearest'\n",
        ")\n"
      ]
    },
    {
      "cell_type": "code",
      "execution_count": 19,
      "metadata": {
        "colab": {
          "base_uri": "https://localhost:8080/"
        },
        "id": "CJ_tnRTckHWF",
        "outputId": "744d18bb-e794-46b9-a4bc-fef208aa5d7d"
      },
      "outputs": [
        {
          "output_type": "stream",
          "name": "stdout",
          "text": [
            "Drive already mounted at /content/drive; to attempt to forcibly remount, call drive.mount(\"/content/drive\", force_remount=True).\n"
          ]
        }
      ],
      "source": [
        "from google.colab import drive\n",
        "drive.mount('/content/drive')"
      ]
    },
    {
      "cell_type": "code",
      "execution_count": 20,
      "metadata": {
        "id": "QxAuyQteO_IN"
      },
      "outputs": [],
      "source": [
        "# Path to original dataset\n",
        "data_dir = '/content/drive/MyDrive/images_money_dataset'\n",
        "\n",
        "# Path to save augmented images\n",
        "aug_dir = '/content/GG'\n",
        "\n",
        "# Create augmented dataset directory if it doesn't exist\n",
        "if not os.path.exists(aug_dir):\n",
        "    os.makedirs(aug_dir)\n"
      ]
    },
    {
      "cell_type": "code",
      "execution_count": 21,
      "metadata": {
        "id": "gXkUnVBSPKLn"
      },
      "outputs": [],
      "source": [
        "for class_folder in os.listdir(data_dir):\n",
        "    class_path = os.path.join(data_dir, class_folder)\n",
        "    aug_class_path = os.path.join(aug_dir, class_folder)\n",
        "\n",
        "    # Create class directory in augmented dataset folder if it doesn't exist\n",
        "    if not os.path.exists(aug_class_path):\n",
        "        os.makedirs(aug_class_path)\n",
        "\n",
        "    for filename in os.listdir(class_path):\n",
        "        img_path = os.path.join(class_path, filename)\n",
        "        img = load_img(img_path)  # Load image\n",
        "        x = img_to_array(img)  # Convert image to numpy array\n",
        "        x = x.reshape((1,) + x.shape)  # Reshape it for the generator\n",
        "\n",
        "        i = 0\n",
        "        # Generate 5 augmented images for each input image\n",
        "        for batch in datagen.flow(x, batch_size=1, save_to_dir=aug_class_path, save_prefix='aug', save_format='jpeg'):\n",
        "            i += 1\n",
        "            if i > 10:\n",
        "                break  # Stop after generating 5 images\n"
      ]
    },
    {
      "cell_type": "code",
      "execution_count": 22,
      "metadata": {
        "id": "o296Uv6byZjI"
      },
      "outputs": [],
      "source": [
        "SIZE = 256  #Resize images\n",
        "\n",
        "#Capture training data and labels into respective lists\n",
        "data_images = []\n",
        "data_labels = []\n",
        "\n",
        "for directory_path in glob.glob(\"/content/GG/*\"):\n",
        "    label = directory_path.split(\"\\\\\")[-1]\n",
        "    for img_path in glob.glob(os.path.join(directory_path, \"*.jpeg\")):\n",
        "        img = cv2.imread(img_path, cv2.IMREAD_COLOR)\n",
        "        img = cv2.resize(img, (SIZE, SIZE))\n",
        "        data_images.append(img)\n",
        "        data_labels.append(label)\n"
      ]
    },
    {
      "cell_type": "markdown",
      "metadata": {
        "id": "Oh6xhdOM0vBm"
      },
      "source": []
    },
    {
      "cell_type": "markdown",
      "metadata": {
        "id": "FNBJ0w25JH_q"
      },
      "source": [
        "#  Split Data"
      ]
    },
    {
      "cell_type": "code",
      "execution_count": 23,
      "metadata": {
        "id": "bx-aeWAJDS4Z"
      },
      "outputs": [],
      "source": [
        "\n",
        "from sklearn.model_selection import train_test_split\n",
        "\n",
        "\n",
        "X_train, X_test, y_train, y_test = train_test_split(data_images, data_labels, test_size=0.2, random_state=42, stratify=data_labels)\n"
      ]
    },
    {
      "cell_type": "code",
      "execution_count": 24,
      "metadata": {
        "id": "qelzEUUG2z4d",
        "colab": {
          "base_uri": "https://localhost:8080/"
        },
        "outputId": "58dbc427-0c85-46de-a50d-5a893b42e94b"
      },
      "outputs": [
        {
          "output_type": "execute_result",
          "data": {
            "text/plain": [
              "(1922, 256, 256, 3)"
            ]
          },
          "metadata": {},
          "execution_count": 24
        }
      ],
      "source": [
        "# prompt: convert train tesst to nummpy array\n",
        "\n",
        "X_train = np.array(X_train)\n",
        "X_test = np.array(X_test)\n",
        "\n",
        "train_labels = np.array(y_train)\n",
        "test_labels = np.array(y_test)\n",
        "X_train.shape"
      ]
    },
    {
      "cell_type": "code",
      "execution_count": 25,
      "metadata": {
        "id": "XGrmz6K03PW3"
      },
      "outputs": [],
      "source": [
        "from sklearn import preprocessing\n",
        "le = preprocessing.LabelEncoder()\n",
        "le.fit(train_labels)\n",
        "y_train1 = le.transform(train_labels)\n",
        "le.fit(test_labels)\n",
        "y_test1 = le.transform(test_labels)"
      ]
    },
    {
      "cell_type": "code",
      "execution_count": 26,
      "metadata": {
        "id": "JkeLrcgV4a-8"
      },
      "outputs": [],
      "source": [
        "X_train,X_test  = X_train / 255.0, X_test / 255.0"
      ]
    },
    {
      "cell_type": "code",
      "execution_count": 27,
      "metadata": {
        "id": "TVe9ibtl4xYL"
      },
      "outputs": [],
      "source": [
        "VGG_model = VGG16(weights=\"imagenet\", include_top=False, input_shape=(SIZE, SIZE,3))"
      ]
    },
    {
      "cell_type": "code",
      "execution_count": 28,
      "metadata": {
        "id": "eVpnf5ms46ax",
        "colab": {
          "base_uri": "https://localhost:8080/"
        },
        "outputId": "78ec27ba-c15b-4429-da97-4c0c47fed66b"
      },
      "outputs": [
        {
          "output_type": "stream",
          "name": "stdout",
          "text": [
            "Model: \"vgg16\"\n",
            "_________________________________________________________________\n",
            " Layer (type)                Output Shape              Param #   \n",
            "=================================================================\n",
            " input_2 (InputLayer)        [(None, 256, 256, 3)]     0         \n",
            "                                                                 \n",
            " block1_conv1 (Conv2D)       (None, 256, 256, 64)      1792      \n",
            "                                                                 \n",
            " block1_conv2 (Conv2D)       (None, 256, 256, 64)      36928     \n",
            "                                                                 \n",
            " block1_pool (MaxPooling2D)  (None, 128, 128, 64)      0         \n",
            "                                                                 \n",
            " block2_conv1 (Conv2D)       (None, 128, 128, 128)     73856     \n",
            "                                                                 \n",
            " block2_conv2 (Conv2D)       (None, 128, 128, 128)     147584    \n",
            "                                                                 \n",
            " block2_pool (MaxPooling2D)  (None, 64, 64, 128)       0         \n",
            "                                                                 \n",
            " block3_conv1 (Conv2D)       (None, 64, 64, 256)       295168    \n",
            "                                                                 \n",
            " block3_conv2 (Conv2D)       (None, 64, 64, 256)       590080    \n",
            "                                                                 \n",
            " block3_conv3 (Conv2D)       (None, 64, 64, 256)       590080    \n",
            "                                                                 \n",
            " block3_pool (MaxPooling2D)  (None, 32, 32, 256)       0         \n",
            "                                                                 \n",
            " block4_conv1 (Conv2D)       (None, 32, 32, 512)       1180160   \n",
            "                                                                 \n",
            " block4_conv2 (Conv2D)       (None, 32, 32, 512)       2359808   \n",
            "                                                                 \n",
            " block4_conv3 (Conv2D)       (None, 32, 32, 512)       2359808   \n",
            "                                                                 \n",
            " block4_pool (MaxPooling2D)  (None, 16, 16, 512)       0         \n",
            "                                                                 \n",
            " block5_conv1 (Conv2D)       (None, 16, 16, 512)       2359808   \n",
            "                                                                 \n",
            " block5_conv2 (Conv2D)       (None, 16, 16, 512)       2359808   \n",
            "                                                                 \n",
            " block5_conv3 (Conv2D)       (None, 16, 16, 512)       2359808   \n",
            "                                                                 \n",
            " block5_pool (MaxPooling2D)  (None, 8, 8, 512)         0         \n",
            "                                                                 \n",
            "=================================================================\n",
            "Total params: 14714688 (56.13 MB)\n",
            "Trainable params: 0 (0.00 Byte)\n",
            "Non-trainable params: 14714688 (56.13 MB)\n",
            "_________________________________________________________________\n"
          ]
        }
      ],
      "source": [
        "for layer in VGG_model.layers:\n",
        "\tlayer.trainable = False\n",
        "\n",
        "VGG_model.summary()"
      ]
    },
    {
      "cell_type": "code",
      "source": [
        "VGG_model.save('vgg_model.h5')"
      ],
      "metadata": {
        "colab": {
          "base_uri": "https://localhost:8080/"
        },
        "id": "bm20YvQ5Jwjg",
        "outputId": "109523d0-229e-4ccd-e26c-99b7f145f098"
      },
      "execution_count": 54,
      "outputs": [
        {
          "output_type": "stream",
          "name": "stderr",
          "text": [
            "/usr/local/lib/python3.10/dist-packages/keras/src/engine/training.py:3103: UserWarning: You are saving your model as an HDF5 file via `model.save()`. This file format is considered legacy. We recommend using instead the native Keras format, e.g. `model.save('my_model.keras')`.\n",
            "  saving_api.save_model(\n",
            "WARNING:tensorflow:Compiled the loaded model, but the compiled metrics have yet to be built. `model.compile_metrics` will be empty until you train or evaluate the model.\n"
          ]
        }
      ]
    },
    {
      "cell_type": "code",
      "execution_count": 29,
      "metadata": {
        "id": "rrVH-__3f5Wk",
        "colab": {
          "base_uri": "https://localhost:8080/"
        },
        "outputId": "658278c3-6241-4600-8312-50e3034774fc"
      },
      "outputs": [
        {
          "output_type": "stream",
          "name": "stdout",
          "text": [
            "61/61 [==============================] - 1394s 23s/step\n",
            "16/16 [==============================] - 348s 22s/step\n",
            "Accuracy of the MLP classifier: 0.9230769230769231\n"
          ]
        }
      ],
      "source": [
        "\n",
        "feature_extractor=VGG_model.predict(X_train)\n",
        "\n",
        "features = feature_extractor.reshape(feature_extractor.shape[0], -1)\n",
        "\n",
        "X_for_training = features\n",
        "\n",
        "from sklearn.neural_network import MLPClassifier\n",
        "\n",
        "# Create an MLP classifier\n",
        "mlp = MLPClassifier(hidden_layer_sizes=(200,), activation='relu', solver='adam', max_iter=2500)\n",
        "\n",
        "# Fit the MLP classifier to the training data\n",
        "mlp.fit(X_for_training, y_train1)\n",
        "\n",
        "X_test_feature = VGG_model.predict(X_test)\n",
        "X_test_features = X_test_feature.reshape(X_test_feature.shape[0], -1)\n",
        "\n",
        "# Predict the labels for the test data\n",
        "y_pred_mlp = mlp.predict(X_test_features)\n",
        "\n",
        "# Calculate the accuracy of the MLP classifier\n",
        "accuracy_mlp = mlp.score(X_test_features, y_test1)\n",
        "\n",
        "# Print the accuracy\n",
        "print(\"Accuracy of the MLP classifier:\", accuracy_mlp)\n"
      ]
    },
    {
      "cell_type": "code",
      "source": [
        "import joblib\n",
        "\n",
        "# Assuming your MLP classifier is named 'mlp'\n",
        "joblib.dump(mlp, 'mlp_classifier_model.pkl')\n"
      ],
      "metadata": {
        "colab": {
          "base_uri": "https://localhost:8080/"
        },
        "id": "wjQmRgK8EtrW",
        "outputId": "e5a99254-ee67-4599-fb2f-bf15d17cae1a"
      },
      "execution_count": 51,
      "outputs": [
        {
          "output_type": "execute_result",
          "data": {
            "text/plain": [
              "['mlp_classifier_model.pkl']"
            ]
          },
          "metadata": {},
          "execution_count": 51
        }
      ]
    },
    {
      "cell_type": "code",
      "source": [
        "\n",
        "from sklearn.metrics import precision_score, recall_score, confusion_matrix\n",
        "\n",
        "# Calculate precision and recall\n",
        "precision = precision_score(y_test1, y_pred_mlp, average='weighted')\n",
        "recall = recall_score(y_test1, y_pred_mlp, average='weighted')\n",
        "\n",
        "# Calculate confusion matrix\n",
        "confusion_matrix = confusion_matrix(y_test1, y_pred_mlp)\n",
        "\n",
        "# Print the results\n",
        "print(\"Precision:\", precision)\n",
        "print(\"Recall:\", recall)\n",
        "print(\"Confusion Matrix:\\n\", confusion_matrix)\n"
      ],
      "metadata": {
        "colab": {
          "base_uri": "https://localhost:8080/"
        },
        "id": "jzghOPH4k8zc",
        "outputId": "f22785f9-ca2d-4c9e-ca95-eb275d511e82"
      },
      "execution_count": 30,
      "outputs": [
        {
          "output_type": "stream",
          "name": "stdout",
          "text": [
            "Precision: 0.9257979851915777\n",
            "Recall: 0.9230769230769231\n",
            "Confusion Matrix:\n",
            " [[18  0  0  0  0  0  0  0  0  0  0  0  0  0  0  0  0  0  0  0]\n",
            " [ 0 13  1  1  0  3  0  0  0  0  0  0  0  0  0  0  0  0  0  0]\n",
            " [ 0  2 36  0  0  0  0  0  0  0  0  0  0  1  0  0  0  0  0  0]\n",
            " [ 1  0  0 25  0  0  0  0  0  0  0  0  0  0  0  0  0  0  0  0]\n",
            " [ 2  0  0  0 12  2  0  0  0  0  0  0  2  0  0  0  0  0  0  0]\n",
            " [ 1  1  1  0  2 17  0  0  0  0  0  0  0  0  0  0  0  0  0  0]\n",
            " [ 2  0  0  0  0  0 37  0  0  0  0  0  0  0  0  0  0  0  0  0]\n",
            " [ 0  0  0  0  0  0  0 22  0  0  0  0  0  0  0  0  0  0  0  0]\n",
            " [ 0  0  0  0  0  0  0  0 17  0  0  0  0  0  0  0  0  0  0  0]\n",
            " [ 0  0  0  0  0  0  0  0  0 22  0  0  0  0  0  0  0  0  0  0]\n",
            " [ 0  0  0  0  0  0  0  0  0  0 18  0  0  0  1  0  0  0  3  0]\n",
            " [ 0  0  0  0  0  0  0  0  0  0  0 21  0  0  0  0  0  0  0  1]\n",
            " [ 0  0  0  0  0  0  0  1  0  0  0  0 25  0  0  0  0  0  0  0]\n",
            " [ 0  0  0  0  0  0  0  0  0  0  0  0  0 21  0  1  0  0  0  0]\n",
            " [ 0  0  0  0  0  0  1  0  0  0  1  0  0  0 32  0  0  0  0  1]\n",
            " [ 0  0  0  0  0  0  0  0  0  0  0  1  0  0  0 16  0  0  0  0]\n",
            " [ 0  0  0  0  0  0  0  0  0  0  0  0  0  0  0  0 25  0  0  1]\n",
            " [ 0  0  0  0  0  0  0  0  0  0  0  0  0  0  0  0  0 22  0  0]\n",
            " [ 1  0  0  0  0  0  0  0  0  0  0  0  0  0  0  0  0  0 25  0]\n",
            " [ 0  0  0  0  0  0  0  0  0  1  0  0  0  1  0  0  0  0  0 20]]\n"
          ]
        }
      ]
    },
    {
      "cell_type": "code",
      "source": [
        "\n",
        "\n",
        "from sklearn.neighbors import KNeighborsClassifier\n",
        "\n",
        "# Create a KNN classifier with 3 neighbors\n",
        "knn = KNeighborsClassifier(n_neighbors=3)\n",
        "\n",
        "# Fit the KNN classifier to the training data\n",
        "knn.fit(X_for_training, y_train1)\n",
        "\n",
        "# Predict the labels for the test data\n",
        "y_pred_knn = knn.predict(X_test_features)\n",
        "\n",
        "# Calculate the accuracy of the KNN classifier\n",
        "accuracy_knn = knn.score(X_test_features, y_test1)\n",
        "\n",
        "# Print the accuracy\n",
        "print(\"Accuracy of the KNN classifier:\", accuracy_knn)\n",
        "\n",
        "# Calculate precision and recall\n",
        "precision = precision_score(y_test1, y_pred_knn, average='weighted')\n",
        "recall = recall_score(y_test1, y_pred_knn, average='weighted')\n",
        "\n",
        "\n",
        "# Print the results\n",
        "print(\"Precision:\", precision)\n",
        "print(\"Recall:\", recall)\n",
        "\n",
        "\n",
        "\n",
        "#Check results on a few select images\n",
        "n=np.random.randint(0, X_test.shape[0])\n",
        "img = X_test[n]\n",
        "input_img = np.expand_dims(img, axis=0) #Expand dims so the input is (num images, x, y, c)\n",
        "input_img_feature=VGG_model.predict(input_img)\n",
        "input_img_features=input_img_feature.reshape(input_img_feature.shape[0], -1)\n",
        "prediction = knn.predict(input_img_features)[0]\n",
        "prediction = le.inverse_transform([prediction])  #Reverse the label encoder to original name\n",
        "print(\"The prediction for this image is: \", prediction)\n",
        "print(\"The actual label for this image is: \", test_labels[n])\n"
      ],
      "metadata": {
        "colab": {
          "base_uri": "https://localhost:8080/"
        },
        "id": "Fyd_edaG9uwS",
        "outputId": "b7957782-550d-4748-83c6-f8a6520b8e80"
      },
      "execution_count": 49,
      "outputs": [
        {
          "output_type": "stream",
          "name": "stdout",
          "text": [
            "Accuracy of the KNN classifier: 0.6528066528066528\n",
            "Precision: 0.7029917614517565\n",
            "Recall: 0.6528066528066528\n",
            "1/1 [==============================] - 1s 628ms/step\n",
            "The prediction for this image is:  ['/content/GG/R50_gen_b1']\n",
            "The actual label for this image is:  /content/GG/R50_gen_b1\n"
          ]
        }
      ]
    },
    {
      "cell_type": "code",
      "source": [
        "\n",
        "\n",
        "from sklearn import tree\n",
        "\n",
        "# Create a decision tree classifier\n",
        "dtree = tree.DecisionTreeClassifier()\n",
        "\n",
        "# Fit the decision tree classifier to the training data\n",
        "dtree.fit(X_for_training, y_train1)\n",
        "\n",
        "# Predict the labels for the test data\n",
        "y_pred_dtree = dtree.predict(X_test_features)\n",
        "\n",
        "# Calculate the accuracy of the decision tree classifier\n",
        "accuracy_dtree = dtree.score(X_test_features, y_test1)\n",
        "\n",
        "# Calculate precision and recall\n",
        "precision_dtree = precision_score(y_test1, y_pred_dtree, average='weighted')\n",
        "recall_dtree = recall_score(y_test1, y_pred_dtree, average='weighted')\n",
        "\n",
        "\n",
        "# Print the results\n",
        "print(\"Accuracy of the decision tree classifier:\", accuracy_dtree)\n",
        "print(\"Precision of the decision tree classifier:\", precision_dtree)\n",
        "print(\"Recall of the decision tree classifier:\", recall_dtree)\n",
        "\n"
      ],
      "metadata": {
        "colab": {
          "base_uri": "https://localhost:8080/"
        },
        "id": "NxqBQ_X1-Uq3",
        "outputId": "5ec8734e-0abf-4d6a-c687-24fbf4754f46"
      },
      "execution_count": 50,
      "outputs": [
        {
          "output_type": "stream",
          "name": "stdout",
          "text": [
            "Accuracy of the decision tree classifier: 0.3264033264033264\n",
            "Precision of the decision tree classifier: 0.3328287397100514\n",
            "Recall of the decision tree classifier: 0.3264033264033264\n"
          ]
        }
      ]
    }
  ],
  "metadata": {
    "accelerator": "GPU",
    "colab": {
      "gpuType": "T4",
      "machine_shape": "hm",
      "provenance": []
    },
    "kernelspec": {
      "display_name": "Python 3",
      "name": "python3"
    },
    "language_info": {
      "name": "python"
    }
  },
  "nbformat": 4,
  "nbformat_minor": 0
}